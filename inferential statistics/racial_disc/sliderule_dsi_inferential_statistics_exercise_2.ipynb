{
 "cells": [
  {
   "cell_type": "markdown",
   "metadata": {},
   "source": [
    "## Vikash Patel"
   ]
  },
  {
   "cell_type": "markdown",
   "metadata": {},
   "source": [
    "# Examining Racial Discrimination in the US Job Market\n",
    "\n",
    "### Background\n",
    "Racial discrimination continues to be pervasive in cultures throughout the world. Researchers examined the level of racial discrimination in the United States labor market by randomly assigning identical résumés to black-sounding or white-sounding names and observing the impact on requests for interviews from employers.\n",
    "\n",
    "### Data\n",
    "In the dataset provided, each row represents a resume. The 'race' column has two values, 'b' and 'w', indicating black-sounding and white-sounding. The column 'call' has two values, 1 and 0, indicating whether the resume received a call from employers or not.\n",
    "\n",
    "Note that the 'b' and 'w' values in race are assigned randomly to the resumes when presented to the employer."
   ]
  },
  {
   "cell_type": "markdown",
   "metadata": {},
   "source": [
    "### Exercises\n",
    "You will perform a statistical analysis to establish whether race has a significant impact on the rate of callbacks for resumes.\n",
    "\n",
    "Answer the following questions **in this notebook below and submit to your Github account**. \n",
    "\n",
    "   1. What test is appropriate for this problem? Does CLT apply?\n",
    "   2. What are the null and alternate hypotheses?\n",
    "   3. Compute margin of error, confidence interval, and p-value.\n",
    "   4. Write a story describing the statistical significance in the context or the original problem.\n",
    "   5. Does your analysis mean that race/name is the most important factor in callback success? Why or why not? If not, how would you amend your analysis?\n",
    "\n",
    "You can include written notes in notebook cells using Markdown: \n",
    "   - In the control panel at the top, choose Cell > Cell Type > Markdown\n",
    "   - Markdown syntax: http://nestacms.com/docs/creating-content/markdown-cheat-sheet\n",
    "\n",
    "\n",
    "#### Resources\n",
    "+ Experiment information and data source: http://www.povertyactionlab.org/evaluation/discrimination-job-market-united-states\n",
    "+ Scipy statistical methods: http://docs.scipy.org/doc/scipy/reference/stats.html \n",
    "+ Markdown syntax: http://nestacms.com/docs/creating-content/markdown-cheat-sheet\n",
    "****"
   ]
  },
  {
   "cell_type": "code",
   "execution_count": 1,
   "metadata": {},
   "outputs": [
    {
     "name": "stderr",
     "output_type": "stream",
     "text": [
      "/Users/vpatel/anaconda/lib/python3.6/site-packages/statsmodels/compat/pandas.py:56: FutureWarning: The pandas.core.datetools module is deprecated and will be removed in a future version. Please use the pandas.tseries module instead.\n",
      "  from pandas.core import datetools\n"
     ]
    }
   ],
   "source": [
    "import pandas as pd\n",
    "import numpy as np\n",
    "from scipy import stats\n",
    "import matplotlib.pyplot as plt\n",
    "import statsmodels.api as sm"
   ]
  },
  {
   "cell_type": "code",
   "execution_count": 2,
   "metadata": {
    "collapsed": true
   },
   "outputs": [],
   "source": [
    "data = pd.io.stata.read_stata('data/us_job_market_discrimination.dta')"
   ]
  },
  {
   "cell_type": "markdown",
   "metadata": {},
   "source": [
    "### Data Exploration"
   ]
  },
  {
   "cell_type": "code",
   "execution_count": 3,
   "metadata": {},
   "outputs": [
    {
     "data": {
      "text/plain": [
       "(4870, 65)"
      ]
     },
     "execution_count": 3,
     "metadata": {},
     "output_type": "execute_result"
    }
   ],
   "source": [
    "data.shape"
   ]
  },
  {
   "cell_type": "code",
   "execution_count": 4,
   "metadata": {},
   "outputs": [
    {
     "name": "stdout",
     "output_type": "stream",
     "text": [
      "<class 'pandas.core.frame.DataFrame'>\n",
      "Int64Index: 4870 entries, 0 to 4869\n",
      "Data columns (total 65 columns):\n",
      "id                    4870 non-null object\n",
      "ad                    4870 non-null object\n",
      "education             4870 non-null int8\n",
      "ofjobs                4870 non-null int8\n",
      "yearsexp              4870 non-null int8\n",
      "honors                4870 non-null int8\n",
      "volunteer             4870 non-null int8\n",
      "military              4870 non-null int8\n",
      "empholes              4870 non-null int8\n",
      "occupspecific         4870 non-null int16\n",
      "occupbroad            4870 non-null int8\n",
      "workinschool          4870 non-null int8\n",
      "email                 4870 non-null int8\n",
      "computerskills        4870 non-null int8\n",
      "specialskills         4870 non-null int8\n",
      "firstname             4870 non-null object\n",
      "sex                   4870 non-null object\n",
      "race                  4870 non-null object\n",
      "h                     4870 non-null float32\n",
      "l                     4870 non-null float32\n",
      "call                  4870 non-null float32\n",
      "city                  4870 non-null object\n",
      "kind                  4870 non-null object\n",
      "adid                  4870 non-null float32\n",
      "fracblack             4784 non-null float32\n",
      "fracwhite             4784 non-null float32\n",
      "lmedhhinc             4784 non-null float32\n",
      "fracdropout           4784 non-null float32\n",
      "fraccolp              4784 non-null float32\n",
      "linc                  4784 non-null float32\n",
      "col                   4870 non-null float32\n",
      "expminreq             4870 non-null object\n",
      "schoolreq             4870 non-null object\n",
      "eoe                   4870 non-null float32\n",
      "parent_sales          1672 non-null float32\n",
      "parent_emp            1722 non-null float32\n",
      "branch_sales          608 non-null float32\n",
      "branch_emp            658 non-null float32\n",
      "fed                   3102 non-null float32\n",
      "fracblack_empzip      1918 non-null float32\n",
      "fracwhite_empzip      1918 non-null float32\n",
      "lmedhhinc_empzip      1908 non-null float32\n",
      "fracdropout_empzip    1918 non-null float32\n",
      "fraccolp_empzip       1918 non-null float32\n",
      "linc_empzip           1918 non-null float32\n",
      "manager               4870 non-null float32\n",
      "supervisor            4870 non-null float32\n",
      "secretary             4870 non-null float32\n",
      "offsupport            4870 non-null float32\n",
      "salesrep              4870 non-null float32\n",
      "retailsales           4870 non-null float32\n",
      "req                   4870 non-null float32\n",
      "expreq                4870 non-null float32\n",
      "comreq                4870 non-null float32\n",
      "educreq               4870 non-null float32\n",
      "compreq               4870 non-null float32\n",
      "orgreq                4870 non-null float32\n",
      "manuf                 4870 non-null float32\n",
      "transcom              4870 non-null float32\n",
      "bankreal              4870 non-null float32\n",
      "trade                 4870 non-null float32\n",
      "busservice            4870 non-null float32\n",
      "othservice            4870 non-null float32\n",
      "missind               4870 non-null float32\n",
      "ownership             4870 non-null object\n",
      "dtypes: float32(42), int16(1), int8(12), object(10)\n",
      "memory usage: 1.3+ MB\n"
     ]
    }
   ],
   "source": [
    "data.info()"
   ]
  },
  {
   "cell_type": "code",
   "execution_count": 5,
   "metadata": {},
   "outputs": [
    {
     "name": "stdout",
     "output_type": "stream",
     "text": [
      "Sample size:   4870\n",
      "Black sample size:   2435\n",
      "White sample size:   2435\n"
     ]
    }
   ],
   "source": [
    "samp_size = data.race.count()\n",
    "num_b = data.race[data.race=='b'].count()\n",
    "num_w = data.race[data.race=='w'].count()\n",
    "print('Sample size: %6.0f' % samp_size)\n",
    "print('Black sample size: %6.0f' % num_b)\n",
    "print('White sample size: %6.0f' % num_w)"
   ]
  },
  {
   "cell_type": "markdown",
   "metadata": {},
   "source": [
    "It looks like the samples of black and white applicants are equal in size."
   ]
  },
  {
   "cell_type": "code",
   "execution_count": 6,
   "metadata": {},
   "outputs": [
    {
     "name": "stdout",
     "output_type": "stream",
     "text": [
      "call  race\n",
      "0.0   b       2278\n",
      "      w       2200\n",
      "1.0   b        157\n",
      "      w        235\n",
      "dtype: int64\n"
     ]
    }
   ],
   "source": [
    "tabulate = data.groupby(['call', 'race']).size()\n",
    "print(tabulate)"
   ]
  },
  {
   "cell_type": "code",
   "execution_count": 7,
   "metadata": {},
   "outputs": [
    {
     "name": "stdout",
     "output_type": "stream",
     "text": [
      "Out of 392 callbacks on resumes, black sounding names received 40.051% of callbacks and white sounding names received 59.949% \n"
     ]
    }
   ],
   "source": [
    "total_callback = sum(data.call)\n",
    "\n",
    "# number of callbacks for black-sounding names\n",
    "b_callback = sum(data[data.race=='b'].call)\n",
    "prop_b_callback = b_callback/total_callback\n",
    "\n",
    "# number of callbacks for white-sounding names\n",
    "\n",
    "w_callback = sum(data[data.race=='w'].call)\n",
    "prop_w_callback = w_callback/total_callback\n",
    "\n",
    "print('Out of %3.0f callbacks on resumes, black sounding names received %3.3f%% of callbacks \\\n",
    "and white sounding names received %3.3f%% ' % (total_callback, prop_b_callback*100, prop_w_callback*100))"
   ]
  },
  {
   "cell_type": "markdown",
   "metadata": {},
   "source": [
    "## Appropriate Test for the Problem"
   ]
  },
  {
   "cell_type": "markdown",
   "metadata": {},
   "source": [
    "As we have calculated the proportions in callbacks for both black sounding names, and white sounding names, a difference in proportions hypothesis test will be the most suited for this problem. The test requires the following conditions to be met:\n",
    "- Random sampling\n",
    "- Samples are independent\n",
    "- Each sample contains at least 10 successes and 10 failures\n",
    "- Population is at least 20 times larger than respective sample\n",
    "\n",
    "All of these conditions are met. The data is randomly sampled, with no dependence between observations. From the tabulated data above, it is apparent that each sample set has more than 10 successes and 10 failures. Also, the respective sample sizes of 2435 for each sample set is absolutely small enough in comparison to all black and white applicants in the population."
   ]
  },
  {
   "cell_type": "markdown",
   "metadata": {},
   "source": [
    "## Hypothesis Test\n",
    "\n",
    "Difference in proportions (http://stattrek.com/hypothesis-test/difference-in-proportions.aspx)\n",
    "\n",
    "- H0 (null hypothesis): p(black) - p(white) = 0 (There is no difference between success rates of applications of black sounding names and white sounding names)\n",
    "- Ha (alternative hypothesis): p(black) - p(white) =/= 0 (There is a difference between success rates of applications of black sounding names and white sounding names)"
   ]
  },
  {
   "cell_type": "code",
   "execution_count": 8,
   "metadata": {},
   "outputs": [
    {
     "name": "stdout",
     "output_type": "stream",
     "text": [
      "Point Estimate: -0.032\n",
      "Standard Error:  0.008\n",
      "Test-Statistic:  4.116\n",
      "Critical Z Value:   1.96\n",
      "Margin of Error:  0.015\n",
      "95% Confidence Interval: [-0.047, -0.017]\n",
      "p-value: 0.00004\n"
     ]
    }
   ],
   "source": [
    "p_hat_b = b_callback / num_b\n",
    "p_hat_w = w_callback / num_w\n",
    "p_hat = p_hat_b - p_hat_w   # point estimate for hypothesis test - difference in the 2 proportions\n",
    "\n",
    "# standard error\n",
    "p_hat_b_SE = p_hat_b * (1 - p_hat_b) / num_b\n",
    "p_hat_w_SE = p_hat_w * (1 - p_hat_w) / num_w\n",
    "std_err = np.sqrt(p_hat_b_SE + p_hat_w_SE)\n",
    "\n",
    "# test-statistic\n",
    "tstat = abs(p_hat/std_err)\n",
    "z = 1.96  # critical z value for 2-tailed 95% confidence interval\n",
    "\n",
    "# margin of error and confidence interval\n",
    "marg_err = z*std_err\n",
    "upbound = p_hat + marg_err\n",
    "lowbound = p_hat - marg_err\n",
    "\n",
    "# p-value\n",
    "pval = stats.t.sf(tstat, 2434)*2  #multiplied by 2 since it is a 2-tailed test\n",
    "\n",
    "print('Point Estimate: %6.3f' % p_hat)\n",
    "print('Standard Error: %6.3f' % std_err)\n",
    "print('Test-Statistic: %6.3f' % tstat)\n",
    "print('Critical Z Value: %6.2f' % z)\n",
    "print('Margin of Error: %6.3f' % marg_err)\n",
    "print('95%% Confidence Interval: [%3.3f, %3.3f]' % (lowbound, upbound))\n",
    "print('p-value: %6.5f' % pval)"
   ]
  },
  {
   "cell_type": "markdown",
   "metadata": {},
   "source": [
    "According to our confidence interval, we can be 95% confident that the chance of black sounding names receiving less call backs on applications in comparsion to white sounding names is anywhere between 1.7% to 4.7%. The p-value for our hypothesis test was well below the 0.05 threshold, and therefore we can reject the null hypothesis. In conclusion, having a black sounding name seems to have a disproportionate impact on receiving callbacks on applications, ceteris paribus."
   ]
  }
 ],
 "metadata": {
  "kernelspec": {
   "display_name": "Python 3",
   "language": "python",
   "name": "python3"
  },
  "language_info": {
   "codemirror_mode": {
    "name": "ipython",
    "version": 3
   },
   "file_extension": ".py",
   "mimetype": "text/x-python",
   "name": "python",
   "nbconvert_exporter": "python",
   "pygments_lexer": "ipython3",
   "version": "3.6.1"
  }
 },
 "nbformat": 4,
 "nbformat_minor": 1
}
