{
 "cells": [
  {
   "cell_type": "markdown",
   "metadata": {},
   "source": [
    "# What is the True Normal Human Body Temperature? \n",
    "\n",
    "#### Background\n",
    "\n",
    "The mean normal body temperature was held to be 37$^{\\circ}$C or 98.6$^{\\circ}$F for more than 120 years since it was first conceptualized and reported by Carl Wunderlich in a famous 1868 book. But, is this value statistically correct?"
   ]
  },
  {
   "cell_type": "markdown",
   "metadata": {},
   "source": [
    "<div class=\"span5 alert alert-info\">\n",
    "<h3>Exercises</h3>\n",
    "\n",
    "<p>In this exercise, you will analyze a dataset of human body temperatures and employ the concepts of hypothesis testing, confidence intervals, and statistical significance.</p>\n",
    "\n",
    "<p>Answer the following questions <b>in this notebook below and submit to your Github account</b>.</p> \n",
    "\n",
    "<ol>\n",
    "<li>  Is the distribution of body temperatures normal? \n",
    "    <ul>\n",
    "    <li> Although this is not a requirement for CLT to hold (read CLT carefully), it gives us some peace of mind that the population may also be normally distributed if we assume that this sample is representative of the population.\n",
    "    </ul>\n",
    "<li>  Is the sample size large? Are the observations independent?\n",
    "    <ul>\n",
    "    <li> Remember that this is a condition for the CLT, and hence the statistical tests we are using, to apply.\n",
    "    </ul>\n",
    "<li>  Is the true population mean really 98.6 degrees F?\n",
    "    <ul>\n",
    "    <li> Would you use a one-sample or two-sample test? Why?\n",
    "    <li> In this situation, is it appropriate to use the $t$ or $z$ statistic? \n",
    "    <li> Now try using the other test. How is the result be different? Why?\n",
    "    </ul>\n",
    "<li>  At what temperature should we consider someone's temperature to be \"abnormal\"?\n",
    "    <ul>\n",
    "    <li> Start by computing the margin of error and confidence interval.\n",
    "    </ul>\n",
    "<li>  Is there a significant difference between males and females in normal temperature?\n",
    "    <ul>\n",
    "    <li> What test did you use and why?\n",
    "    <li> Write a story with your conclusion in the context of the original problem.\n",
    "    </ul>\n",
    "</ol>\n",
    "\n",
    "You can include written notes in notebook cells using Markdown: \n",
    "   - In the control panel at the top, choose Cell > Cell Type > Markdown\n",
    "   - Markdown syntax: http://nestacms.com/docs/creating-content/markdown-cheat-sheet\n",
    "\n",
    "#### Resources\n",
    "\n",
    "+ Information and data sources: http://www.amstat.org/publications/jse/datasets/normtemp.txt, http://www.amstat.org/publications/jse/jse_data_archive.htm\n",
    "+ Markdown syntax: http://nestacms.com/docs/creating-content/markdown-cheat-sheet\n",
    "\n",
    "****\n",
    "</div>"
   ]
  },
  {
   "cell_type": "code",
   "execution_count": 1,
   "metadata": {},
   "outputs": [
    {
     "name": "stderr",
     "output_type": "stream",
     "text": [
      "/Users/vpatel/anaconda/lib/python3.6/site-packages/statsmodels/compat/pandas.py:56: FutureWarning: The pandas.core.datetools module is deprecated and will be removed in a future version. Please use the pandas.tseries module instead.\n",
      "  from pandas.core import datetools\n"
     ]
    }
   ],
   "source": [
    "import pandas as pd\n",
    "import matplotlib.pyplot as plt\n",
    "import numpy as np\n",
    "import scipy.stats as stats\n",
    "import statsmodels.api as sm\n",
    "\n",
    "df = pd.read_csv('data/human_body_temperature.csv')"
   ]
  },
  {
   "cell_type": "code",
   "execution_count": 2,
   "metadata": {},
   "outputs": [
    {
     "data": {
      "text/html": [
       "<div>\n",
       "<style>\n",
       "    .dataframe thead tr:only-child th {\n",
       "        text-align: right;\n",
       "    }\n",
       "\n",
       "    .dataframe thead th {\n",
       "        text-align: left;\n",
       "    }\n",
       "\n",
       "    .dataframe tbody tr th {\n",
       "        vertical-align: top;\n",
       "    }\n",
       "</style>\n",
       "<table border=\"1\" class=\"dataframe\">\n",
       "  <thead>\n",
       "    <tr style=\"text-align: right;\">\n",
       "      <th></th>\n",
       "      <th>temperature</th>\n",
       "      <th>gender</th>\n",
       "      <th>heart_rate</th>\n",
       "    </tr>\n",
       "  </thead>\n",
       "  <tbody>\n",
       "    <tr>\n",
       "      <th>0</th>\n",
       "      <td>99.3</td>\n",
       "      <td>F</td>\n",
       "      <td>68.0</td>\n",
       "    </tr>\n",
       "    <tr>\n",
       "      <th>1</th>\n",
       "      <td>98.4</td>\n",
       "      <td>F</td>\n",
       "      <td>81.0</td>\n",
       "    </tr>\n",
       "    <tr>\n",
       "      <th>2</th>\n",
       "      <td>97.8</td>\n",
       "      <td>M</td>\n",
       "      <td>73.0</td>\n",
       "    </tr>\n",
       "    <tr>\n",
       "      <th>3</th>\n",
       "      <td>99.2</td>\n",
       "      <td>F</td>\n",
       "      <td>66.0</td>\n",
       "    </tr>\n",
       "    <tr>\n",
       "      <th>4</th>\n",
       "      <td>98.0</td>\n",
       "      <td>F</td>\n",
       "      <td>73.0</td>\n",
       "    </tr>\n",
       "  </tbody>\n",
       "</table>\n",
       "</div>"
      ],
      "text/plain": [
       "   temperature gender  heart_rate\n",
       "0         99.3      F        68.0\n",
       "1         98.4      F        81.0\n",
       "2         97.8      M        73.0\n",
       "3         99.2      F        66.0\n",
       "4         98.0      F        73.0"
      ]
     },
     "execution_count": 2,
     "metadata": {},
     "output_type": "execute_result"
    }
   ],
   "source": [
    "df.head()"
   ]
  },
  {
   "cell_type": "code",
   "execution_count": 3,
   "metadata": {},
   "outputs": [
    {
     "data": {
      "text/html": [
       "<div>\n",
       "<style>\n",
       "    .dataframe thead tr:only-child th {\n",
       "        text-align: right;\n",
       "    }\n",
       "\n",
       "    .dataframe thead th {\n",
       "        text-align: left;\n",
       "    }\n",
       "\n",
       "    .dataframe tbody tr th {\n",
       "        vertical-align: top;\n",
       "    }\n",
       "</style>\n",
       "<table border=\"1\" class=\"dataframe\">\n",
       "  <thead>\n",
       "    <tr style=\"text-align: right;\">\n",
       "      <th></th>\n",
       "      <th>temperature</th>\n",
       "      <th>heart_rate</th>\n",
       "    </tr>\n",
       "  </thead>\n",
       "  <tbody>\n",
       "    <tr>\n",
       "      <th>count</th>\n",
       "      <td>130.000000</td>\n",
       "      <td>130.000000</td>\n",
       "    </tr>\n",
       "    <tr>\n",
       "      <th>mean</th>\n",
       "      <td>98.249231</td>\n",
       "      <td>73.761538</td>\n",
       "    </tr>\n",
       "    <tr>\n",
       "      <th>std</th>\n",
       "      <td>0.733183</td>\n",
       "      <td>7.062077</td>\n",
       "    </tr>\n",
       "    <tr>\n",
       "      <th>min</th>\n",
       "      <td>96.300000</td>\n",
       "      <td>57.000000</td>\n",
       "    </tr>\n",
       "    <tr>\n",
       "      <th>25%</th>\n",
       "      <td>97.800000</td>\n",
       "      <td>69.000000</td>\n",
       "    </tr>\n",
       "    <tr>\n",
       "      <th>50%</th>\n",
       "      <td>98.300000</td>\n",
       "      <td>74.000000</td>\n",
       "    </tr>\n",
       "    <tr>\n",
       "      <th>75%</th>\n",
       "      <td>98.700000</td>\n",
       "      <td>79.000000</td>\n",
       "    </tr>\n",
       "    <tr>\n",
       "      <th>max</th>\n",
       "      <td>100.800000</td>\n",
       "      <td>89.000000</td>\n",
       "    </tr>\n",
       "  </tbody>\n",
       "</table>\n",
       "</div>"
      ],
      "text/plain": [
       "       temperature  heart_rate\n",
       "count   130.000000  130.000000\n",
       "mean     98.249231   73.761538\n",
       "std       0.733183    7.062077\n",
       "min      96.300000   57.000000\n",
       "25%      97.800000   69.000000\n",
       "50%      98.300000   74.000000\n",
       "75%      98.700000   79.000000\n",
       "max     100.800000   89.000000"
      ]
     },
     "execution_count": 3,
     "metadata": {},
     "output_type": "execute_result"
    }
   ],
   "source": [
    "df.describe()"
   ]
  },
  {
   "cell_type": "code",
   "execution_count": 4,
   "metadata": {
    "collapsed": true
   },
   "outputs": [],
   "source": [
    "temp = df['temperature']"
   ]
  },
  {
   "cell_type": "markdown",
   "metadata": {},
   "source": [
    "## 1.) Are body temperatures normally distributed?"
   ]
  },
  {
   "cell_type": "code",
   "execution_count": 5,
   "metadata": {},
   "outputs": [
    {
     "data": {
      "image/png": "[encoded data removed]",
      "text/plain": [
       "<matplotlib.figure.Figure at 0x11ac71710>"
      ]
     },
     "metadata": {},
     "output_type": "display_data"
    }
   ],
   "source": [
    "plt.subplot(1,2,1)\n",
    "temp.plot(kind='hist', bins=10, normed=True)\n",
    "plt.title('Distribution of Body Temperatures')\n",
    "plt.xlabel('Temperature')\n",
    "plt.subplot(1,2,2)\n",
    "temp.plot(kind='box')\n",
    "plt.tight_layout()\n",
    "plt.show()"
   ]
  },
  {
   "cell_type": "markdown",
   "metadata": {},
   "source": [
    "Looking at the shape of the histogram, you can make the conclusion that the body temperature data is normally distributed. Also included is a box and whisker plot, which looks to be symmetrical at the mean, aside from the outliers denoted by the circles."
   ]
  },
  {
   "cell_type": "markdown",
   "metadata": {},
   "source": [
    "## 2.) Size of sample and observation independence"
   ]
  },
  {
   "cell_type": "markdown",
   "metadata": {},
   "source": [
    "Obtained from the output description of the temperature data, the sample size is 130. While this is a relatively small number with respect to the world population, the size of 130 is still large enough to perform a z-test, as we can also estimate the population's standard deviation with the sample. Also, each observation is independent from one another, allowing us to perform the tests under the central limit theorum."
   ]
  },
  {
   "cell_type": "markdown",
   "metadata": {},
   "source": [
    "## 3.) Hypothesis Test for the True Population Mean (of 98.6 degrees F)"
   ]
  },
  {
   "cell_type": "markdown",
   "metadata": {},
   "source": [
    "- H0 (null hypothesis): mean = 98.6F (The population mean body temperature is 98.6 degrees F)\n",
    "- Ha (alternate hypothesis): mean =/= 98.6F (The population mean body temperature is not 98.6 degrees F)\n",
    "    \n",
    "In determining whether to use a t-statistic or z-statistic to perform the hypothesis test, the following much be true:\n",
    "- If both sample size < 30 and the population standard deviation is unknown, use t-statistic\n",
    "- If both sample size >= 30 and the population standard deviation is known, use z-statistic\n",
    "\n",
    "In our case, the sample size is greater than 30, but we do not know the population's standard deviation. However, we are able to estimate the population's standard deviation via the sample's standard deviation because of its size. Therefore, the t-statistic and the z-statistic are both viable for this test, and should be equivalent."
   ]
  },
  {
   "cell_type": "code",
   "execution_count": 6,
   "metadata": {},
   "outputs": [
    {
     "name": "stdout",
     "output_type": "stream",
     "text": [
      "T-Test: [t-statistic: -5.45482, p-value: 0.0000002411]\n",
      "Z-Test: [z-statistic: -5.45482, p-value: 0.0000000490]\n"
     ]
    }
   ],
   "source": [
    "tstat, tpval = stats.ttest_1samp(temp, 98.6)\n",
    "zstat, zpval = sm.stats.ztest(temp, value=98.6)\n",
    "print('T-Test: [t-statistic: %6.5f, p-value: %6.10f]' % (tstat, tpval))\n",
    "print('Z-Test: [z-statistic: %6.5f, p-value: %6.10f]' % (zstat, zpval))"
   ]
  },
  {
   "cell_type": "markdown",
   "metadata": {},
   "source": [
    "As expected, the t-statistic and z-statistic are the same. The resulting p-values are much less than 0.05, therefore you can reject the null hypothesis. The true population mean body temperature is not 98.6 degrees F."
   ]
  },
  {
   "cell_type": "markdown",
   "metadata": {},
   "source": [
    "## 4.) When are body temperatures 'abnormal'?"
   ]
  },
  {
   "cell_type": "markdown",
   "metadata": {},
   "source": [
    "We will be utilizing a 95% confidence interval to determine abnormal body temperatures from the sample. Body temperatures falling outside of that confidence interval will be considered 'abnormal'. Since the z-test is applicable to this problem (we determined the distribution to be normal), we can use the critical z-value of 1.96 to determine the margin of error for this confidence interval."
   ]
  },
  {
   "cell_type": "code",
   "execution_count": 7,
   "metadata": {},
   "outputs": [
    {
     "name": "stdout",
     "output_type": "stream",
     "text": [
      "The 2-Tailed 95% Confidence Interval has a critical z-value of: 1.96\n",
      "Sample Mean:  98.25 degrees F\n",
      "Margin of Error:   0.13 degrees F\n",
      "The 95% Confidence Interval: [ 98.12,  98.38 ]\n"
     ]
    }
   ],
   "source": [
    "samp_mean = np.mean(temp)\n",
    "critical_z = 1.96\n",
    "std_err = stats.sem(temp)\n",
    "marg_err = critical_z*std_err\n",
    "print('The 2-Tailed 95% Confidence Interval has a critical z-value of: ' + str(critical_z))\n",
    "print('Sample Mean: %6.2f degrees F' % samp_mean)\n",
    "print('Margin of Error: %6.2f degrees F' % marg_err)\n",
    "upbound = samp_mean + marg_err\n",
    "lowbound = samp_mean - marg_err\n",
    "print('The 95%% Confidence Interval: [%6.2f, %6.2f ]' % (lowbound, upbound))"
   ]
  },
  {
   "cell_type": "markdown",
   "metadata": {},
   "source": [
    "According to the confidence interval calculated above, 'abnormal' body temperatures would be defined as anything lower than 98.12 degrees F, and above 98.38 degrees F. Of course, this means we are 95% confident that the population mean body temperature will fall between the calculated interval. Also, it is important to note that the hypothesized mean body temperature of 98.6 degrees F by Carl Wunderlich falls outside of that interval, and would be characterized as abnormal."
   ]
  },
  {
   "cell_type": "markdown",
   "metadata": {},
   "source": [
    "## 5.) Is there a significant difference between male and female body temperatures?"
   ]
  },
  {
   "cell_type": "markdown",
   "metadata": {},
   "source": [
    "To test this, we must use a 2-sample test to measure the significance of the difference of body temperatures."
   ]
  },
  {
   "cell_type": "code",
   "execution_count": 8,
   "metadata": {},
   "outputs": [
    {
     "data": {
      "text/plain": [
       "count    0.000000\n",
       "mean    -0.289231\n",
       "std     -0.044732\n",
       "min     -0.100000\n",
       "25%     -0.400000\n",
       "50%     -0.300000\n",
       "75%     -0.200000\n",
       "max     -1.300000\n",
       "Name: temperature, dtype: float64"
      ]
     },
     "execution_count": 8,
     "metadata": {},
     "output_type": "execute_result"
    }
   ],
   "source": [
    "male = df[df.gender == 'M']['temperature']\n",
    "female = df[df.gender == 'F']['temperature']\n",
    "male.describe() - female.describe()"
   ]
  },
  {
   "cell_type": "code",
   "execution_count": 9,
   "metadata": {},
   "outputs": [
    {
     "data": {
      "image/png": "[encoded data removed]",
      "text/plain": [
       "<matplotlib.figure.Figure at 0x11ac714e0>"
      ]
     },
     "metadata": {},
     "output_type": "display_data"
    }
   ],
   "source": [
    "plt.subplot(1,2,1)\n",
    "male.plot(kind='box')\n",
    "plt.title('Male Body Temperature')\n",
    "plt.subplot(1,2,2)\n",
    "female.plot(kind='box')\n",
    "plt.title('Female Body Temperature')\n",
    "plt.tight_layout()\n",
    "plt.show()"
   ]
  },
  {
   "cell_type": "markdown",
   "metadata": {},
   "source": [
    "By analyzing the statistical description of the difference between male body temperatures and female body temperatures, it becomes apparent that there are an equal number of 65 observations for both sets. By looking at the box plot, it almost becomes apparent that there is variance in the distribution of body temperatures between males and females, with there being some outliers in the female observations."
   ]
  },
  {
   "cell_type": "markdown",
   "metadata": {},
   "source": [
    "#### Two-sample Hypothesis Test:\n",
    "\n",
    "- H0 (null hypothesis): male-female = 0 (There is no difference in mean body temperature between males and females)\n",
    "- Ha (alternate hypothesis): male-female =/= 0 (There is a difference in mean body temperature between males and females)"
   ]
  },
  {
   "cell_type": "code",
   "execution_count": 10,
   "metadata": {
    "scrolled": true
   },
   "outputs": [
    {
     "name": "stdout",
     "output_type": "stream",
     "text": [
      "The sample mean difference:  -0.29\n"
     ]
    }
   ],
   "source": [
    "samp_mean_diff = np.mean(male) - np.mean(female)\n",
    "print('The sample mean difference: %6.2f' % samp_mean_diff)"
   ]
  },
  {
   "cell_type": "markdown",
   "metadata": {},
   "source": [
    "According to the sample, the mean body temperature of females is 0.29 degrees F higher than that of males."
   ]
  },
  {
   "cell_type": "code",
   "execution_count": 11,
   "metadata": {},
   "outputs": [
    {
     "name": "stdout",
     "output_type": "stream",
     "text": [
      "T-Test: [t-statistic: -2.28543, p-value: 0.0239318831]\n"
     ]
    }
   ],
   "source": [
    "tstat2, tpval2 = stats.ttest_ind(male, female)\n",
    "print('T-Test: [t-statistic: %6.5f, p-value: %6.10f]' % (tstat2, tpval2))"
   ]
  },
  {
   "cell_type": "code",
   "execution_count": 12,
   "metadata": {},
   "outputs": [
    {
     "name": "stdout",
     "output_type": "stream",
     "text": [
      "Critical z-value of: 2.24151782562\n",
      "Margin of Error:   0.29 degrees F\n",
      "Confidence Interval: [ -0.58,   0.00 ]\n"
     ]
    }
   ],
   "source": [
    "m_f_diff = male.reset_index(drop=True) - female.reset_index(drop=True)\n",
    "std_err_diff = stats.sem(m_f_diff)\n",
    "critical_z_diff = abs((samp_mean_diff - 0) / std_err_diff)\n",
    "marg_err_diff = critical_z_diff*std_err_diff\n",
    "print('Critical z-value of: ' + str(critical_z_diff))\n",
    "print('Margin of Error: %6.2f degrees F' % marg_err_diff)\n",
    "upbound_diff = samp_mean_diff + marg_err_diff\n",
    "lowbound_diff = samp_mean_diff - marg_err_diff\n",
    "print('Confidence Interval: [%6.2f, %6.2f ]' % (lowbound_diff, upbound_diff))"
   ]
  },
  {
   "cell_type": "markdown",
   "metadata": {},
   "source": [
    "If both the body temperatures of males and females are independently observed, then the calculated p-value suggests that we should reject the null hypothesis. However, the value of zero is included in our calculated confidence interval of mean differences, so we cannot justify rejecting the null hypothesis. Therefore, it can be concluded that there are not significant differences between male and female body temperatures."
   ]
  }
 ],
 "metadata": {
  "kernelspec": {
   "display_name": "Python 3",
   "language": "python",
   "name": "python3"
  },
  "language_info": {
   "codemirror_mode": {
    "name": "ipython",
    "version": 3
   },
   "file_extension": ".py",
   "mimetype": "text/x-python",
   "name": "python",
   "nbconvert_exporter": "python",
   "pygments_lexer": "ipython3",
   "version": "3.6.1"
  }
 },
 "nbformat": 4,
 "nbformat_minor": 1
}
