{
 "cells": [
  {
   "cell_type": "markdown",
   "metadata": {},
   "source": [
    "## Data Storytelling\n",
    "\n",
    "In this notebook, I will be analyzing an alcohol consumption dataset obtained from FiveThirtyEight. For each country, this dataset aggregates their respective total servings of beer, spirits, and wine, and total liters of alcohol consumed.\n",
    "\n",
    "Units: Average serving sizes per person\n",
    "Source: World Health Organisation, Global Information System on Alcohol and Health (GISAH), 2010 via FiveThirtyEight\n",
    "https://github.com/fivethirtyeight/data/tree/master/alcohol-consumption"
   ]
  }
 ],
 "metadata": {
  "kernelspec": {
   "display_name": "Python 3",
   "language": "python",
   "name": "python3"
  },
  "language_info": {
   "codemirror_mode": {
    "name": "ipython",
    "version": 3
   },
   "file_extension": ".py",
   "mimetype": "text/x-python",
   "name": "python",
   "nbconvert_exporter": "python",
   "pygments_lexer": "ipython3",
   "version": "3.6.1"
  }
 },
 "nbformat": 4,
 "nbformat_minor": 2
}
